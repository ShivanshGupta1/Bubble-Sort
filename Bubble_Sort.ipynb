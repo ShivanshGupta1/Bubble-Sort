{
  "nbformat": 4,
  "nbformat_minor": 0,
  "metadata": {
    "colab": {
      "name": "Bubble Sort.ipynb",
      "provenance": [],
      "authorship_tag": "ABX9TyPGjFw68nOORa21WRyLpQm+",
      "include_colab_link": true
    },
    "kernelspec": {
      "name": "python3",
      "display_name": "Python 3"
    },
    "language_info": {
      "name": "python"
    }
  },
  "cells": [
    {
      "cell_type": "markdown",
      "metadata": {
        "id": "view-in-github",
        "colab_type": "text"
      },
      "source": [
        "<a href=\"https://colab.research.google.com/github/ShivanshGupta1/Bubble-Sort/blob/main/Bubble_Sort.ipynb\" target=\"_parent\"><img src=\"https://colab.research.google.com/assets/colab-badge.svg\" alt=\"Open In Colab\"/></a>"
      ]
    },
    {
      "cell_type": "code",
      "metadata": {
        "id": "S6jhZVCq3VwI"
      },
      "source": [
        "#Bubble Sort Function👇\n",
        "def bubbleSort(userList):\n",
        "  a_number = 0# Variable for storing the a number\n",
        "  b_number = 0# Variable for storing the b number\n",
        "  for a in range(0,len(userList)):#For loop for the first number\n",
        "    for b in range(a+1,len(userList)):#For loop for the second number\n",
        "      if userList[a] >= userList[b]:# Condition to check if the first number is greater than or equal to the second number\n",
        "        a_number = userList[a]#If the condition is true, then it will store the first in a variable\n",
        "        b_number = userList[b]#And the second in the b variable\n",
        "        userList[a] = b_number#Then it will swicth the places of number a with number b\n",
        "        userList[b] = a_number#And number b with number a\n",
        "  return userList# In the end of the for loop, it will return the final list\n",
        "\n",
        "#Bubble Sort Call👇\n",
        "userList = eval(input(\"Your List (Comma Seperation): \"))#Here we are taking the input in form of a list\n",
        "result = bubbleSort(userList)#Here we are calling the function and storing the result in a variable\n",
        "print(result)#Here we are displaying the result"
      ],
      "execution_count": null,
      "outputs": []
    }
  ]
}